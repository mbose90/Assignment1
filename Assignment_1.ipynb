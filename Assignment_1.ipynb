{
 "cells": [
  {
   "cell_type": "code",
   "execution_count": 3,
   "id": "c3dc009c-ddbb-4842-be9d-37339c887d6f",
   "metadata": {},
   "outputs": [],
   "source": [
    "#Q1:\n",
    "#String\n",
    "Aar1 = \"Pwskills\"\n",
    "#list\n",
    "Aar2 = [23,56,89.89,\"twl\",6+7j]\n",
    "#float\n",
    "Aar3 = 23.78\n",
    "#tuple\n",
    "Aar4 = (\"banana\",\"apple\",\"orange\")"
   ]
  },
  {
   "cell_type": "code",
   "execution_count": 4,
   "id": "bf961399-7b52-4f12-84c2-642d5f526c65",
   "metadata": {},
   "outputs": [],
   "source": [
    "#Q2\n",
    "Var1='' #string\n",
    "var2='[DS,ML,Python]' #string\n",
    "var3=['DS','ML','Python'] #list\n",
    "var4=1. #float"
   ]
  },
  {
   "cell_type": "code",
   "execution_count": 7,
   "id": "dee4c72c-4c1e-4f01-ad45-5c1cb0298156",
   "metadata": {},
   "outputs": [
    {
     "data": {
      "text/plain": [
       "str"
      ]
     },
     "execution_count": 7,
     "metadata": {},
     "output_type": "execute_result"
    }
   ],
   "source": [
    "type(Var1)"
   ]
  },
  {
   "cell_type": "code",
   "execution_count": 8,
   "id": "aab7433f-d9b7-4216-b1c5-fcbe82660d74",
   "metadata": {},
   "outputs": [
    {
     "data": {
      "text/plain": [
       "str"
      ]
     },
     "execution_count": 8,
     "metadata": {},
     "output_type": "execute_result"
    }
   ],
   "source": [
    "type(var2)"
   ]
  },
  {
   "cell_type": "code",
   "execution_count": 9,
   "id": "ece8f709-a8e5-4b8b-b5e3-ccc301aa0bdc",
   "metadata": {},
   "outputs": [
    {
     "data": {
      "text/plain": [
       "list"
      ]
     },
     "execution_count": 9,
     "metadata": {},
     "output_type": "execute_result"
    }
   ],
   "source": [
    "type(var3)"
   ]
  },
  {
   "cell_type": "code",
   "execution_count": 10,
   "id": "bbef0a5d-a128-44c7-8454-6179c42adfc0",
   "metadata": {},
   "outputs": [
    {
     "data": {
      "text/plain": [
       "float"
      ]
     },
     "execution_count": 10,
     "metadata": {},
     "output_type": "execute_result"
    }
   ],
   "source": [
    "type(var4)"
   ]
  },
  {
   "cell_type": "code",
   "execution_count": 12,
   "id": "f95f3f1c-8623-4bd7-9e39-de0eda01a8ef",
   "metadata": {},
   "outputs": [
    {
     "data": {
      "text/plain": [
       "2.0"
      ]
     },
     "execution_count": 12,
     "metadata": {},
     "output_type": "execute_result"
    }
   ],
   "source": [
    "#Q3:\n",
    "#division operator\n",
    "6/3"
   ]
  },
  {
   "cell_type": "code",
   "execution_count": 13,
   "id": "49655ae3-9f07-4caa-9436-ada1546b13cd",
   "metadata": {},
   "outputs": [
    {
     "data": {
      "text/plain": [
       "0"
      ]
     },
     "execution_count": 13,
     "metadata": {},
     "output_type": "execute_result"
    }
   ],
   "source": [
    "#Modulus operator\n",
    "6%3"
   ]
  },
  {
   "cell_type": "code",
   "execution_count": 15,
   "id": "5495683d-4cc6-45d2-ac24-65e00081b5f4",
   "metadata": {},
   "outputs": [
    {
     "data": {
      "text/plain": [
       "2"
      ]
     },
     "execution_count": 15,
     "metadata": {},
     "output_type": "execute_result"
    }
   ],
   "source": [
    "#Floor Division Operator\n",
    "6//3"
   ]
  },
  {
   "cell_type": "code",
   "execution_count": 16,
   "id": "9d3c2d43-deb9-43ff-be84-76215cacc41c",
   "metadata": {},
   "outputs": [
    {
     "data": {
      "text/plain": [
       "216"
      ]
     },
     "execution_count": 16,
     "metadata": {},
     "output_type": "execute_result"
    }
   ],
   "source": [
    "#Exponentiation Operator\n",
    "6**3"
   ]
  },
  {
   "cell_type": "code",
   "execution_count": 19,
   "id": "9d943c23-2809-44a1-9ff2-6c20c5718b52",
   "metadata": {},
   "outputs": [
    {
     "name": "stdout",
     "output_type": "stream",
     "text": [
      "23\n",
      "<class 'int'>\n",
      "56\n",
      "<class 'int'>\n",
      "89.89\n",
      "<class 'float'>\n",
      "twl\n",
      "<class 'str'>\n",
      "(6+7j)\n",
      "<class 'complex'>\n",
      "ghjk\n",
      "<class 'str'>\n",
      "23\n",
      "<class 'int'>\n",
      "1.1\n",
      "<class 'float'>\n",
      "klop\n",
      "<class 'str'>\n",
      "100\n",
      "<class 'int'>\n",
      "For loop Completed\n"
     ]
    }
   ],
   "source": [
    "#Q4\n",
    "l=[23,56,89.89,\"twl\",6+7j,'ghjk',23,1.1,\"klop\",100]\n",
    "for i in l :\n",
    "    print(i)\n",
    "    print(type(i))\n",
    "else :\n",
    "    print(\"For loop Completed\")"
   ]
  },
  {
   "cell_type": "code",
   "execution_count": 38,
   "id": "9cea880a-c6e1-4df5-9f55-249f5f42444c",
   "metadata": {},
   "outputs": [
    {
     "name": "stdin",
     "output_type": "stream",
     "text": [
      "Enter the number A 34\n",
      "Enter the number B 2\n"
     ]
    },
    {
     "name": "stdout",
     "output_type": "stream",
     "text": [
      "Number of times A is purely divisible by B is : 17\n"
     ]
    }
   ],
   "source": [
    "#Q5\n",
    "A = int(input(\"Enter the number A\"))\n",
    "B = int(input(\"Enter the number B\"))\n",
    "i = 1\n",
    "s = 0\n",
    "while A >= B :\n",
    "    if A%B == 0 :\n",
    "        s = A//B\n",
    "        break\n",
    "print(\"Number of times A is purely divisible by B is :\", s)"
   ]
  },
  {
   "cell_type": "code",
   "execution_count": 50,
   "id": "c076d1ef-a06c-4a98-ad28-6be0ad847d95",
   "metadata": {},
   "outputs": [
    {
     "name": "stdout",
     "output_type": "stream",
     "text": [
      "Not Divisble by 3: 1\n",
      "Not Divisble by 3: 2\n",
      "Divisble by 3: 3\n",
      "Not Divisble by 3: 4\n",
      "Not Divisble by 3: 5\n",
      "Divisble by 3: 6\n",
      "Not Divisble by 3: 7\n",
      "Not Divisble by 3: 8\n",
      "Divisble by 3: 9\n",
      "Not Divisble by 3: 10\n",
      "Not Divisble by 3: 11\n",
      "Divisble by 3: 12\n",
      "Not Divisble by 3: 13\n",
      "Not Divisble by 3: 14\n",
      "Divisble by 3: 15\n",
      "Not Divisble by 3: 16\n",
      "Not Divisble by 3: 17\n",
      "Divisble by 3: 18\n",
      "Not Divisble by 3: 19\n",
      "Not Divisble by 3: 20\n",
      "Divisble by 3: 21\n",
      "Not Divisble by 3: 22\n",
      "Not Divisble by 3: 23\n",
      "Divisble by 3: 24\n",
      "Not Divisble by 3: 25\n"
     ]
    }
   ],
   "source": [
    "#Q6\n",
    "l = [1,2,3,4,5,6,7,8,9,10,11,12,13,14,15,16,17,18,19,20,21,22,23,24,25]\n",
    "for k in l :\n",
    "    if k % 3 == 0 :\n",
    "        print(\"Divisble by 3:\", k)\n",
    "    else :\n",
    "        print(\"Not Divisble by 3:\", k)\n"
   ]
  },
  {
   "cell_type": "code",
   "execution_count": null,
   "id": "bbdd0dc9-e194-4874-bde0-1878253e0aec",
   "metadata": {},
   "outputs": [],
   "source": [
    "#Q7\n",
    "# String is Immuatabe\n",
    "# The object that doesn’t allow changes is an immutable object\n",
    "# List is Mutable\n",
    "# The object that allow changes is an mutable object"
   ]
  },
  {
   "cell_type": "code",
   "execution_count": 51,
   "id": "e06b7b8c-2378-4979-9841-626e2a4e5082",
   "metadata": {},
   "outputs": [],
   "source": [
    "S = \"PWskills\" #string"
   ]
  },
  {
   "cell_type": "code",
   "execution_count": 52,
   "id": "bc23b60f-ba19-4c89-8563-93ea266c9078",
   "metadata": {},
   "outputs": [
    {
     "data": {
      "text/plain": [
       "'s'"
      ]
     },
     "execution_count": 52,
     "metadata": {},
     "output_type": "execute_result"
    }
   ],
   "source": [
    "S[2] #data at position 2"
   ]
  },
  {
   "cell_type": "code",
   "execution_count": 53,
   "id": "982c0592-4f6d-4881-856b-cc4a0326b801",
   "metadata": {},
   "outputs": [
    {
     "ename": "TypeError",
     "evalue": "'str' object does not support item assignment",
     "output_type": "error",
     "traceback": [
      "\u001b[0;31m---------------------------------------------------------------------------\u001b[0m",
      "\u001b[0;31mTypeError\u001b[0m                                 Traceback (most recent call last)",
      "Cell \u001b[0;32mIn[53], line 1\u001b[0m\n\u001b[0;32m----> 1\u001b[0m \u001b[43mS\u001b[49m\u001b[43m[\u001b[49m\u001b[38;5;241;43m2\u001b[39;49m\u001b[43m]\u001b[49m \u001b[38;5;241m=\u001b[39m \u001b[38;5;124m'\u001b[39m\u001b[38;5;124mk\u001b[39m\u001b[38;5;124m'\u001b[39m\n",
      "\u001b[0;31mTypeError\u001b[0m: 'str' object does not support item assignment"
     ]
    }
   ],
   "source": [
    "S[2] = 'k' #trying change the value, but receiving error. This is because String is immutable"
   ]
  },
  {
   "cell_type": "code",
   "execution_count": 54,
   "id": "d46f53df-e6e4-4228-8fb8-d81e5107de49",
   "metadata": {},
   "outputs": [],
   "source": [
    "l = [23,56,89.89,\"twl\",6+7j] #list"
   ]
  },
  {
   "cell_type": "code",
   "execution_count": 55,
   "id": "64f3e433-a3a2-43b9-84fb-9bb123036160",
   "metadata": {},
   "outputs": [
    {
     "data": {
      "text/plain": [
       "89.89"
      ]
     },
     "execution_count": 55,
     "metadata": {},
     "output_type": "execute_result"
    }
   ],
   "source": [
    "l[2] #data at position 2"
   ]
  },
  {
   "cell_type": "code",
   "execution_count": 56,
   "id": "43cbcfb1-de04-4946-8f81-a72b8df19741",
   "metadata": {},
   "outputs": [],
   "source": [
    "l[2] = 100 #changing the data at psoition 2"
   ]
  },
  {
   "cell_type": "code",
   "execution_count": 57,
   "id": "bd9fc364-e42f-454f-9dd0-e91a4e9e370d",
   "metadata": {},
   "outputs": [
    {
     "data": {
      "text/plain": [
       "[23, 56, 100, 'twl', (6+7j)]"
      ]
     },
     "execution_count": 57,
     "metadata": {},
     "output_type": "execute_result"
    }
   ],
   "source": [
    "l"
   ]
  },
  {
   "cell_type": "code",
   "execution_count": null,
   "id": "297afe05-a477-4ede-abf4-6e72d231de6a",
   "metadata": {},
   "outputs": [],
   "source": [
    "#data has bee changed. This is because List is Mutable"
   ]
  }
 ],
 "metadata": {
  "kernelspec": {
   "display_name": "Python 3 (ipykernel)",
   "language": "python",
   "name": "python3"
  },
  "language_info": {
   "codemirror_mode": {
    "name": "ipython",
    "version": 3
   },
   "file_extension": ".py",
   "mimetype": "text/x-python",
   "name": "python",
   "nbconvert_exporter": "python",
   "pygments_lexer": "ipython3",
   "version": "3.10.8"
  }
 },
 "nbformat": 4,
 "nbformat_minor": 5
}
